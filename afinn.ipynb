{
  "nbformat": 4,
  "nbformat_minor": 0,
  "metadata": {
    "colab": {
      "provenance": []
    },
    "kernelspec": {
      "name": "python3",
      "display_name": "Python 3"
    },
    "language_info": {
      "name": "python"
    }
  },
  "cells": [
    {
      "cell_type": "markdown",
      "source": [
        "Using Afinn\n"
      ],
      "metadata": {
        "id": "ocpljhZxLw1v"
      }
    },
    {
      "cell_type": "code",
      "source": [
        "!pip install afinn"
      ],
      "metadata": {
        "colab": {
          "base_uri": "https://localhost:8080/"
        },
        "id": "F6ZkN3EFMK7T",
        "outputId": "0ba3959e-5e6c-4ed3-b6c6-d776dbeb2107"
      },
      "execution_count": 3,
      "outputs": [
        {
          "output_type": "stream",
          "name": "stdout",
          "text": [
            "Collecting afinn\n",
            "  Downloading afinn-0.1.tar.gz (52 kB)\n",
            "\u001b[2K     \u001b[90m━━━━━━━━━━━━━━━━━━━━━━━━━━━━━━━━━━━━━━━━\u001b[0m \u001b[32m52.6/52.6 kB\u001b[0m \u001b[31m1.7 MB/s\u001b[0m eta \u001b[36m0:00:00\u001b[0m\n",
            "\u001b[?25h  Preparing metadata (setup.py) ... \u001b[?25l\u001b[?25hdone\n",
            "Building wheels for collected packages: afinn\n",
            "  Building wheel for afinn (setup.py) ... \u001b[?25l\u001b[?25hdone\n",
            "  Created wheel for afinn: filename=afinn-0.1-py3-none-any.whl size=53430 sha256=98c2e02daf2ab1f821870f3877f2a34071f5b986ca202515a1f86283feed5c96\n",
            "  Stored in directory: /root/.cache/pip/wheels/b0/05/90/43f79196199a138fb486902fceca30a2d1b5228e6d2db8eb90\n",
            "Successfully built afinn\n",
            "Installing collected packages: afinn\n",
            "Successfully installed afinn-0.1\n"
          ]
        }
      ]
    },
    {
      "cell_type": "code",
      "source": [
        "from afinn import Afinn\n",
        "\n",
        "afinn = Afinn()\n",
        "\n",
        "def get_sentiment(text):\n",
        "    score = afinn.score(text)\n",
        "    if score > 0:\n",
        "        return 'positive'\n",
        "    elif score < 0:\n",
        "        return 'negative'\n",
        "    else:\n",
        "        return 'neutral'\n",
        "\n",
        "new_statements = [\n",
        "    \"I am very happy with the service.\",\n",
        "    \"This is the worst experience ever.\",\n",
        "    \"I am confident\",\n",
        "]\n",
        "\n",
        "for statement in new_statements:\n",
        "    sentiment = get_sentiment(statement)\n",
        "    print(f\"statement: {statement} | sentiment: {sentiment}\")\n"
      ],
      "metadata": {
        "colab": {
          "base_uri": "https://localhost:8080/"
        },
        "id": "5HFQfVhfL4sK",
        "outputId": "f81d7709-479d-4981-b38b-5bbfc5305996"
      },
      "execution_count": 4,
      "outputs": [
        {
          "output_type": "stream",
          "name": "stdout",
          "text": [
            "statement: I am very happy with the service. | sentiment: positive\n",
            "statement: This is the worst experience ever. | sentiment: negative\n",
            "statement: I am confident | sentiment: positive\n"
          ]
        }
      ]
    },
    {
      "cell_type": "code",
      "source": [],
      "metadata": {
        "id": "JUKbEdt2MJMM"
      },
      "execution_count": null,
      "outputs": []
    }
  ]
}